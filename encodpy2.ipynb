{
  "cells": [
    {
      "cell_type": "markdown",
      "id": "c90ba091-7533-4062-a6db-8f2d2a5324f7",
      "metadata": {
        "id": "c90ba091-7533-4062-a6db-8f2d2a5324f7"
      },
      "source": [
        "# Problem Statement 5\n",
        "### Implement anomaly detection for given ECG dataset using Autoencoder and build the model by using the following steps:\n",
        "    a. Import required libraries\n",
        "    b. Upload / access the dataset\n",
        "    c. Encoder converts it into latent representation\n",
        "    d. Decoder networks convert it back to the original input\n",
        "    e. Compile the models with Optimizer, Loss, and Evaluation Metrics"
      ]
    },
    {
      "cell_type": "markdown",
      "id": "cd97c26d-25bd-4626-bd67-f50288ce4ba9",
      "metadata": {
        "id": "cd97c26d-25bd-4626-bd67-f50288ce4ba9"
      },
      "source": [
        "# Import libraries"
      ]
    },
    {
      "cell_type": "code",
      "execution_count": null,
      "id": "52c1ecda-a0ca-4f33-8f99-c1e2d7751482",
      "metadata": {
        "id": "52c1ecda-a0ca-4f33-8f99-c1e2d7751482"
      },
      "outputs": [],
      "source": [
        "import numpy as np\n",
        "import pandas as pd\n",
        "import tensorflow as tf\n",
        "import matplotlib.pyplot as plt\n",
        "\n",
        "from sklearn.metrics import accuracy_score\n",
        "from sklearn.preprocessing import MinMaxScaler\n",
        "from sklearn.model_selection import train_test_split\n",
        "\n",
        "from tensorflow.keras.optimizers import Adam\n",
        "from tensorflow.keras.losses import MeanSquaredLogarithmicError\n",
        "from tensorflow.keras.models import Model, Sequential\n",
        "from tensorflow.keras.layers import Dense, Dropout"
      ]
    },
    {
      "cell_type": "markdown",
      "id": "d881ac05-7bc9-4b4f-a563-ca107b7c384d",
      "metadata": {
        "id": "d881ac05-7bc9-4b4f-a563-ca107b7c384d"
      },
      "source": [
        "# Upload/access dataset"
      ]
    },
    {
      "cell_type": "code",
      "execution_count": null,
      "id": "e4c8c6cb-a7f4-4c68-956a-7a1e8b6dc2c7",
      "metadata": {
        "id": "e4c8c6cb-a7f4-4c68-956a-7a1e8b6dc2c7"
      },
      "outputs": [],
      "source": [
        "data=pd.read_csv(\"ecg_autoencoder_dataset.csv\",header=None)"
      ]
    },
    {
      "cell_type": "code",
      "execution_count": null,
      "id": "e9e6fa43-b668-48b3-87bf-35b7b9f75acd",
      "metadata": {
        "id": "e9e6fa43-b668-48b3-87bf-35b7b9f75acd",
        "outputId": "6094012f-70db-499d-8872-ec95c2ce7325"
      },
      "outputs": [
        {
          "data": {
            "text/html": [
              "<div>\n",
              "<style scoped>\n",
              "    .dataframe tbody tr th:only-of-type {\n",
              "        vertical-align: middle;\n",
              "    }\n",
              "\n",
              "    .dataframe tbody tr th {\n",
              "        vertical-align: top;\n",
              "    }\n",
              "\n",
              "    .dataframe thead th {\n",
              "        text-align: right;\n",
              "    }\n",
              "</style>\n",
              "<table border=\"1\" class=\"dataframe\">\n",
              "  <thead>\n",
              "    <tr style=\"text-align: right;\">\n",
              "      <th></th>\n",
              "      <th>0</th>\n",
              "      <th>1</th>\n",
              "      <th>2</th>\n",
              "      <th>3</th>\n",
              "      <th>4</th>\n",
              "      <th>5</th>\n",
              "      <th>6</th>\n",
              "      <th>7</th>\n",
              "      <th>8</th>\n",
              "      <th>9</th>\n",
              "      <th>...</th>\n",
              "      <th>131</th>\n",
              "      <th>132</th>\n",
              "      <th>133</th>\n",
              "      <th>134</th>\n",
              "      <th>135</th>\n",
              "      <th>136</th>\n",
              "      <th>137</th>\n",
              "      <th>138</th>\n",
              "      <th>139</th>\n",
              "      <th>140</th>\n",
              "    </tr>\n",
              "  </thead>\n",
              "  <tbody>\n",
              "    <tr>\n",
              "      <th>0</th>\n",
              "      <td>-0.112522</td>\n",
              "      <td>-2.827204</td>\n",
              "      <td>-3.773897</td>\n",
              "      <td>-4.349751</td>\n",
              "      <td>-4.376041</td>\n",
              "      <td>-3.474986</td>\n",
              "      <td>-2.181408</td>\n",
              "      <td>-1.818286</td>\n",
              "      <td>-1.250522</td>\n",
              "      <td>-0.477492</td>\n",
              "      <td>...</td>\n",
              "      <td>0.792168</td>\n",
              "      <td>0.933541</td>\n",
              "      <td>0.796958</td>\n",
              "      <td>0.578621</td>\n",
              "      <td>0.257740</td>\n",
              "      <td>0.228077</td>\n",
              "      <td>0.123431</td>\n",
              "      <td>0.925286</td>\n",
              "      <td>0.193137</td>\n",
              "      <td>1</td>\n",
              "    </tr>\n",
              "    <tr>\n",
              "      <th>1</th>\n",
              "      <td>-1.100878</td>\n",
              "      <td>-3.996840</td>\n",
              "      <td>-4.285843</td>\n",
              "      <td>-4.506579</td>\n",
              "      <td>-4.022377</td>\n",
              "      <td>-3.234368</td>\n",
              "      <td>-1.566126</td>\n",
              "      <td>-0.992258</td>\n",
              "      <td>-0.754680</td>\n",
              "      <td>0.042321</td>\n",
              "      <td>...</td>\n",
              "      <td>0.538356</td>\n",
              "      <td>0.656881</td>\n",
              "      <td>0.787490</td>\n",
              "      <td>0.724046</td>\n",
              "      <td>0.555784</td>\n",
              "      <td>0.476333</td>\n",
              "      <td>0.773820</td>\n",
              "      <td>1.119621</td>\n",
              "      <td>-1.436250</td>\n",
              "      <td>1</td>\n",
              "    </tr>\n",
              "    <tr>\n",
              "      <th>2</th>\n",
              "      <td>-0.567088</td>\n",
              "      <td>-2.593450</td>\n",
              "      <td>-3.874230</td>\n",
              "      <td>-4.584095</td>\n",
              "      <td>-4.187449</td>\n",
              "      <td>-3.151462</td>\n",
              "      <td>-1.742940</td>\n",
              "      <td>-1.490659</td>\n",
              "      <td>-1.183580</td>\n",
              "      <td>-0.394229</td>\n",
              "      <td>...</td>\n",
              "      <td>0.886073</td>\n",
              "      <td>0.531452</td>\n",
              "      <td>0.311377</td>\n",
              "      <td>-0.021919</td>\n",
              "      <td>-0.713683</td>\n",
              "      <td>-0.532197</td>\n",
              "      <td>0.321097</td>\n",
              "      <td>0.904227</td>\n",
              "      <td>-0.421797</td>\n",
              "      <td>1</td>\n",
              "    </tr>\n",
              "    <tr>\n",
              "      <th>3</th>\n",
              "      <td>0.490473</td>\n",
              "      <td>-1.914407</td>\n",
              "      <td>-3.616364</td>\n",
              "      <td>-4.318823</td>\n",
              "      <td>-4.268016</td>\n",
              "      <td>-3.881110</td>\n",
              "      <td>-2.993280</td>\n",
              "      <td>-1.671131</td>\n",
              "      <td>-1.333884</td>\n",
              "      <td>-0.965629</td>\n",
              "      <td>...</td>\n",
              "      <td>0.350816</td>\n",
              "      <td>0.499111</td>\n",
              "      <td>0.600345</td>\n",
              "      <td>0.842069</td>\n",
              "      <td>0.952074</td>\n",
              "      <td>0.990133</td>\n",
              "      <td>1.086798</td>\n",
              "      <td>1.403011</td>\n",
              "      <td>-0.383564</td>\n",
              "      <td>1</td>\n",
              "    </tr>\n",
              "    <tr>\n",
              "      <th>4</th>\n",
              "      <td>0.800232</td>\n",
              "      <td>-0.874252</td>\n",
              "      <td>-2.384761</td>\n",
              "      <td>-3.973292</td>\n",
              "      <td>-4.338224</td>\n",
              "      <td>-3.802422</td>\n",
              "      <td>-2.534510</td>\n",
              "      <td>-1.783423</td>\n",
              "      <td>-1.594450</td>\n",
              "      <td>-0.753199</td>\n",
              "      <td>...</td>\n",
              "      <td>1.148884</td>\n",
              "      <td>0.958434</td>\n",
              "      <td>1.059025</td>\n",
              "      <td>1.371682</td>\n",
              "      <td>1.277392</td>\n",
              "      <td>0.960304</td>\n",
              "      <td>0.971020</td>\n",
              "      <td>1.614392</td>\n",
              "      <td>1.421456</td>\n",
              "      <td>1</td>\n",
              "    </tr>\n",
              "  </tbody>\n",
              "</table>\n",
              "<p>5 rows × 141 columns</p>\n",
              "</div>"
            ],
            "text/plain": [
              "        0         1         2         3         4         5         6    \\\n",
              "0 -0.112522 -2.827204 -3.773897 -4.349751 -4.376041 -3.474986 -2.181408   \n",
              "1 -1.100878 -3.996840 -4.285843 -4.506579 -4.022377 -3.234368 -1.566126   \n",
              "2 -0.567088 -2.593450 -3.874230 -4.584095 -4.187449 -3.151462 -1.742940   \n",
              "3  0.490473 -1.914407 -3.616364 -4.318823 -4.268016 -3.881110 -2.993280   \n",
              "4  0.800232 -0.874252 -2.384761 -3.973292 -4.338224 -3.802422 -2.534510   \n",
              "\n",
              "        7         8         9    ...       131       132       133       134  \\\n",
              "0 -1.818286 -1.250522 -0.477492  ...  0.792168  0.933541  0.796958  0.578621   \n",
              "1 -0.992258 -0.754680  0.042321  ...  0.538356  0.656881  0.787490  0.724046   \n",
              "2 -1.490659 -1.183580 -0.394229  ...  0.886073  0.531452  0.311377 -0.021919   \n",
              "3 -1.671131 -1.333884 -0.965629  ...  0.350816  0.499111  0.600345  0.842069   \n",
              "4 -1.783423 -1.594450 -0.753199  ...  1.148884  0.958434  1.059025  1.371682   \n",
              "\n",
              "        135       136       137       138       139  140  \n",
              "0  0.257740  0.228077  0.123431  0.925286  0.193137    1  \n",
              "1  0.555784  0.476333  0.773820  1.119621 -1.436250    1  \n",
              "2 -0.713683 -0.532197  0.321097  0.904227 -0.421797    1  \n",
              "3  0.952074  0.990133  1.086798  1.403011 -0.383564    1  \n",
              "4  1.277392  0.960304  0.971020  1.614392  1.421456    1  \n",
              "\n",
              "[5 rows x 141 columns]"
            ]
          },
          "execution_count": 3,
          "metadata": {},
          "output_type": "execute_result"
        }
      ],
      "source": [
        "data.head()"
      ]
    },
    {
      "cell_type": "code",
      "execution_count": null,
      "id": "0661c0aa-f608-4369-a268-edcff81e0dd6",
      "metadata": {
        "id": "0661c0aa-f608-4369-a268-edcff81e0dd6",
        "outputId": "8710e74f-e3a0-4c44-8f38-cdda643f9c32"
      },
      "outputs": [
        {
          "data": {
            "text/html": [
              "<div>\n",
              "<style scoped>\n",
              "    .dataframe tbody tr th:only-of-type {\n",
              "        vertical-align: middle;\n",
              "    }\n",
              "\n",
              "    .dataframe tbody tr th {\n",
              "        vertical-align: top;\n",
              "    }\n",
              "\n",
              "    .dataframe thead th {\n",
              "        text-align: right;\n",
              "    }\n",
              "</style>\n",
              "<table border=\"1\" class=\"dataframe\">\n",
              "  <thead>\n",
              "    <tr style=\"text-align: right;\">\n",
              "      <th></th>\n",
              "      <th>0</th>\n",
              "      <th>1</th>\n",
              "      <th>2</th>\n",
              "      <th>3</th>\n",
              "      <th>4</th>\n",
              "      <th>5</th>\n",
              "      <th>6</th>\n",
              "      <th>7</th>\n",
              "      <th>8</th>\n",
              "      <th>9</th>\n",
              "      <th>...</th>\n",
              "      <th>130</th>\n",
              "      <th>131</th>\n",
              "      <th>132</th>\n",
              "      <th>133</th>\n",
              "      <th>134</th>\n",
              "      <th>135</th>\n",
              "      <th>136</th>\n",
              "      <th>137</th>\n",
              "      <th>138</th>\n",
              "      <th>139</th>\n",
              "    </tr>\n",
              "  </thead>\n",
              "  <tbody>\n",
              "    <tr>\n",
              "      <th>0</th>\n",
              "      <td>-0.112522</td>\n",
              "      <td>-2.827204</td>\n",
              "      <td>-3.773897</td>\n",
              "      <td>-4.349751</td>\n",
              "      <td>-4.376041</td>\n",
              "      <td>-3.474986</td>\n",
              "      <td>-2.181408</td>\n",
              "      <td>-1.818286</td>\n",
              "      <td>-1.250522</td>\n",
              "      <td>-0.477492</td>\n",
              "      <td>...</td>\n",
              "      <td>0.160348</td>\n",
              "      <td>0.792168</td>\n",
              "      <td>0.933541</td>\n",
              "      <td>0.796958</td>\n",
              "      <td>0.578621</td>\n",
              "      <td>0.257740</td>\n",
              "      <td>0.228077</td>\n",
              "      <td>0.123431</td>\n",
              "      <td>0.925286</td>\n",
              "      <td>0.193137</td>\n",
              "    </tr>\n",
              "    <tr>\n",
              "      <th>1</th>\n",
              "      <td>-1.100878</td>\n",
              "      <td>-3.996840</td>\n",
              "      <td>-4.285843</td>\n",
              "      <td>-4.506579</td>\n",
              "      <td>-4.022377</td>\n",
              "      <td>-3.234368</td>\n",
              "      <td>-1.566126</td>\n",
              "      <td>-0.992258</td>\n",
              "      <td>-0.754680</td>\n",
              "      <td>0.042321</td>\n",
              "      <td>...</td>\n",
              "      <td>0.560327</td>\n",
              "      <td>0.538356</td>\n",
              "      <td>0.656881</td>\n",
              "      <td>0.787490</td>\n",
              "      <td>0.724046</td>\n",
              "      <td>0.555784</td>\n",
              "      <td>0.476333</td>\n",
              "      <td>0.773820</td>\n",
              "      <td>1.119621</td>\n",
              "      <td>-1.436250</td>\n",
              "    </tr>\n",
              "    <tr>\n",
              "      <th>2</th>\n",
              "      <td>-0.567088</td>\n",
              "      <td>-2.593450</td>\n",
              "      <td>-3.874230</td>\n",
              "      <td>-4.584095</td>\n",
              "      <td>-4.187449</td>\n",
              "      <td>-3.151462</td>\n",
              "      <td>-1.742940</td>\n",
              "      <td>-1.490659</td>\n",
              "      <td>-1.183580</td>\n",
              "      <td>-0.394229</td>\n",
              "      <td>...</td>\n",
              "      <td>1.284825</td>\n",
              "      <td>0.886073</td>\n",
              "      <td>0.531452</td>\n",
              "      <td>0.311377</td>\n",
              "      <td>-0.021919</td>\n",
              "      <td>-0.713683</td>\n",
              "      <td>-0.532197</td>\n",
              "      <td>0.321097</td>\n",
              "      <td>0.904227</td>\n",
              "      <td>-0.421797</td>\n",
              "    </tr>\n",
              "    <tr>\n",
              "      <th>3</th>\n",
              "      <td>0.490473</td>\n",
              "      <td>-1.914407</td>\n",
              "      <td>-3.616364</td>\n",
              "      <td>-4.318823</td>\n",
              "      <td>-4.268016</td>\n",
              "      <td>-3.881110</td>\n",
              "      <td>-2.993280</td>\n",
              "      <td>-1.671131</td>\n",
              "      <td>-1.333884</td>\n",
              "      <td>-0.965629</td>\n",
              "      <td>...</td>\n",
              "      <td>0.491173</td>\n",
              "      <td>0.350816</td>\n",
              "      <td>0.499111</td>\n",
              "      <td>0.600345</td>\n",
              "      <td>0.842069</td>\n",
              "      <td>0.952074</td>\n",
              "      <td>0.990133</td>\n",
              "      <td>1.086798</td>\n",
              "      <td>1.403011</td>\n",
              "      <td>-0.383564</td>\n",
              "    </tr>\n",
              "    <tr>\n",
              "      <th>4</th>\n",
              "      <td>0.800232</td>\n",
              "      <td>-0.874252</td>\n",
              "      <td>-2.384761</td>\n",
              "      <td>-3.973292</td>\n",
              "      <td>-4.338224</td>\n",
              "      <td>-3.802422</td>\n",
              "      <td>-2.534510</td>\n",
              "      <td>-1.783423</td>\n",
              "      <td>-1.594450</td>\n",
              "      <td>-0.753199</td>\n",
              "      <td>...</td>\n",
              "      <td>0.966606</td>\n",
              "      <td>1.148884</td>\n",
              "      <td>0.958434</td>\n",
              "      <td>1.059025</td>\n",
              "      <td>1.371682</td>\n",
              "      <td>1.277392</td>\n",
              "      <td>0.960304</td>\n",
              "      <td>0.971020</td>\n",
              "      <td>1.614392</td>\n",
              "      <td>1.421456</td>\n",
              "    </tr>\n",
              "  </tbody>\n",
              "</table>\n",
              "<p>5 rows × 140 columns</p>\n",
              "</div>"
            ],
            "text/plain": [
              "        0         1         2         3         4         5         6    \\\n",
              "0 -0.112522 -2.827204 -3.773897 -4.349751 -4.376041 -3.474986 -2.181408   \n",
              "1 -1.100878 -3.996840 -4.285843 -4.506579 -4.022377 -3.234368 -1.566126   \n",
              "2 -0.567088 -2.593450 -3.874230 -4.584095 -4.187449 -3.151462 -1.742940   \n",
              "3  0.490473 -1.914407 -3.616364 -4.318823 -4.268016 -3.881110 -2.993280   \n",
              "4  0.800232 -0.874252 -2.384761 -3.973292 -4.338224 -3.802422 -2.534510   \n",
              "\n",
              "        7         8         9    ...       130       131       132       133  \\\n",
              "0 -1.818286 -1.250522 -0.477492  ...  0.160348  0.792168  0.933541  0.796958   \n",
              "1 -0.992258 -0.754680  0.042321  ...  0.560327  0.538356  0.656881  0.787490   \n",
              "2 -1.490659 -1.183580 -0.394229  ...  1.284825  0.886073  0.531452  0.311377   \n",
              "3 -1.671131 -1.333884 -0.965629  ...  0.491173  0.350816  0.499111  0.600345   \n",
              "4 -1.783423 -1.594450 -0.753199  ...  0.966606  1.148884  0.958434  1.059025   \n",
              "\n",
              "        134       135       136       137       138       139  \n",
              "0  0.578621  0.257740  0.228077  0.123431  0.925286  0.193137  \n",
              "1  0.724046  0.555784  0.476333  0.773820  1.119621 -1.436250  \n",
              "2 -0.021919 -0.713683 -0.532197  0.321097  0.904227 -0.421797  \n",
              "3  0.842069  0.952074  0.990133  1.086798  1.403011 -0.383564  \n",
              "4  1.371682  1.277392  0.960304  0.971020  1.614392  1.421456  \n",
              "\n",
              "[5 rows x 140 columns]"
            ]
          },
          "execution_count": 4,
          "metadata": {},
          "output_type": "execute_result"
        }
      ],
      "source": [
        "features = data.drop(140,axis=1)\n",
        "features.head()"
      ]
    },
    {
      "cell_type": "code",
      "execution_count": null,
      "id": "7022974c-c695-4aca-a395-21c87301f8a2",
      "metadata": {
        "id": "7022974c-c695-4aca-a395-21c87301f8a2",
        "outputId": "9bc879b2-20a2-4af5-9e12-8b1d85cfcb7a"
      },
      "outputs": [
        {
          "data": {
            "text/plain": [
              "0    1\n",
              "1    1\n",
              "2    1\n",
              "3    1\n",
              "4    1\n",
              "Name: 140, dtype: int64"
            ]
          },
          "execution_count": 5,
          "metadata": {},
          "output_type": "execute_result"
        }
      ],
      "source": [
        "target=data[140]\n",
        "target.head()"
      ]
    },
    {
      "cell_type": "code",
      "execution_count": null,
      "id": "aadadec3-f84a-426d-800e-74c38d9d79c0",
      "metadata": {
        "id": "aadadec3-f84a-426d-800e-74c38d9d79c0"
      },
      "outputs": [],
      "source": [
        "x_train, x_test, y_train, y_test = train_test_split(features, target, test_size=0.2, stratify=target)\n",
        "\n",
        "train_index = y_train[y_train == 1].index\n",
        "train_data = x_train.loc[train_index]"
      ]
    },
    {
      "cell_type": "code",
      "execution_count": null,
      "id": "e587dcb3-9205-43e5-893f-6c2c6dac30c8",
      "metadata": {
        "id": "e587dcb3-9205-43e5-893f-6c2c6dac30c8"
      },
      "outputs": [],
      "source": [
        "min_max_scaler = MinMaxScaler(feature_range=(0,1))\n",
        "x_train_scaled = min_max_scaler.fit_transform(train_data.copy())\n",
        "x_test_scaled = min_max_scaler.transform(x_test.copy())"
      ]
    },
    {
      "cell_type": "markdown",
      "id": "afc0ee79-fa94-41fe-9076-ef72122654f0",
      "metadata": {
        "id": "afc0ee79-fa94-41fe-9076-ef72122654f0"
      },
      "source": [
        "# Encoder converts it into latent representation"
      ]
    },
    {
      "cell_type": "markdown",
      "id": "9be71279-22cd-4b2a-873a-8f2cd90446cb",
      "metadata": {
        "id": "9be71279-22cd-4b2a-873a-8f2cd90446cb"
      },
      "source": [
        "# Decoder network convert it back to original input"
      ]
    },
    {
      "cell_type": "code",
      "execution_count": null,
      "id": "47d12f5d-16a6-4dee-a2ae-5feae52fda7f",
      "metadata": {
        "id": "47d12f5d-16a6-4dee-a2ae-5feae52fda7f"
      },
      "outputs": [],
      "source": [
        "class Autoencoder(Model):\n",
        "    def __init__(self, output_units, ldim=8):\n",
        "        super().__init__()\n",
        "        self.encoder = Sequential([\n",
        "            Dense(64, activation='relu'),\n",
        "            Dropout(0.1),\n",
        "            Dense(32, activation='relu'),\n",
        "            Dropout(0.1),\n",
        "            Dense(16, activation='relu'),\n",
        "            Dropout(0.1),\n",
        "            Dense(ldim, activation='relu')\n",
        "        ])\n",
        "        self.decoder = Sequential([\n",
        "            Dense(16, activation='relu'),\n",
        "            Dropout(0.1),\n",
        "            Dense(32, activation='relu'),\n",
        "            Dropout(0.1),\n",
        "            Dense(64, activation='relu'),\n",
        "            Dropout(0.1),\n",
        "            Dense(output_units, activation='sigmoid')\n",
        "        ])\n",
        "\n",
        "    def call(self, inputs):\n",
        "        encoded = self.encoder(inputs)\n",
        "        decoded = self.decoder(encoded)\n",
        "        return decoded"
      ]
    },
    {
      "cell_type": "markdown",
      "id": "e1a51e2c-3d28-4d54-8cf4-dba8cafdbff5",
      "metadata": {
        "id": "e1a51e2c-3d28-4d54-8cf4-dba8cafdbff5"
      },
      "source": [
        "# Compile models with optimizers, loss, and evaluation metrics"
      ]
    },
    {
      "cell_type": "code",
      "execution_count": null,
      "id": "8a7c7f96-c737-4dce-9296-2c8c18150e39",
      "metadata": {
        "id": "8a7c7f96-c737-4dce-9296-2c8c18150e39",
        "outputId": "0e7503d3-d597-492a-b880-c5b5bae76ace"
      },
      "outputs": [
        {
          "name": "stdout",
          "output_type": "stream",
          "text": [
            "Epoch 1/20\n",
            "5/5 [==============================] - 1s 50ms/step - loss: 0.0107 - mse: 0.0237 - val_loss: 0.0127 - val_mse: 0.0290\n",
            "Epoch 2/20\n",
            "5/5 [==============================] - 0s 11ms/step - loss: 0.0103 - mse: 0.0230 - val_loss: 0.0126 - val_mse: 0.0287\n",
            "Epoch 3/20\n",
            "5/5 [==============================] - 0s 12ms/step - loss: 0.0100 - mse: 0.0222 - val_loss: 0.0124 - val_mse: 0.0283\n",
            "Epoch 4/20\n",
            "5/5 [==============================] - 0s 11ms/step - loss: 0.0093 - mse: 0.0207 - val_loss: 0.0121 - val_mse: 0.0277\n",
            "Epoch 5/20\n",
            "5/5 [==============================] - 0s 11ms/step - loss: 0.0084 - mse: 0.0187 - val_loss: 0.0121 - val_mse: 0.0275\n",
            "Epoch 6/20\n",
            "5/5 [==============================] - 0s 11ms/step - loss: 0.0076 - mse: 0.0169 - val_loss: 0.0117 - val_mse: 0.0268\n",
            "Epoch 7/20\n",
            "5/5 [==============================] - 0s 11ms/step - loss: 0.0068 - mse: 0.0151 - val_loss: 0.0111 - val_mse: 0.0254\n",
            "Epoch 8/20\n",
            "5/5 [==============================] - 0s 11ms/step - loss: 0.0062 - mse: 0.0137 - val_loss: 0.0109 - val_mse: 0.0248\n",
            "Epoch 9/20\n",
            "5/5 [==============================] - 0s 11ms/step - loss: 0.0057 - mse: 0.0127 - val_loss: 0.0104 - val_mse: 0.0237\n",
            "Epoch 10/20\n",
            "5/5 [==============================] - 0s 11ms/step - loss: 0.0054 - mse: 0.0120 - val_loss: 0.0101 - val_mse: 0.0231\n",
            "Epoch 11/20\n",
            "5/5 [==============================] - 0s 11ms/step - loss: 0.0052 - mse: 0.0116 - val_loss: 0.0098 - val_mse: 0.0225\n",
            "Epoch 12/20\n",
            "5/5 [==============================] - 0s 11ms/step - loss: 0.0050 - mse: 0.0112 - val_loss: 0.0098 - val_mse: 0.0223\n",
            "Epoch 13/20\n",
            "5/5 [==============================] - 0s 11ms/step - loss: 0.0049 - mse: 0.0109 - val_loss: 0.0097 - val_mse: 0.0222\n",
            "Epoch 14/20\n",
            "5/5 [==============================] - 0s 11ms/step - loss: 0.0048 - mse: 0.0107 - val_loss: 0.0096 - val_mse: 0.0220\n",
            "Epoch 15/20\n",
            "5/5 [==============================] - 0s 11ms/step - loss: 0.0048 - mse: 0.0106 - val_loss: 0.0096 - val_mse: 0.0219\n",
            "Epoch 16/20\n",
            "5/5 [==============================] - 0s 11ms/step - loss: 0.0047 - mse: 0.0105 - val_loss: 0.0095 - val_mse: 0.0218\n",
            "Epoch 17/20\n",
            "5/5 [==============================] - 0s 11ms/step - loss: 0.0047 - mse: 0.0104 - val_loss: 0.0095 - val_mse: 0.0218\n",
            "Epoch 18/20\n",
            "5/5 [==============================] - 0s 11ms/step - loss: 0.0047 - mse: 0.0104 - val_loss: 0.0095 - val_mse: 0.0218\n",
            "Epoch 19/20\n",
            "5/5 [==============================] - 0s 11ms/step - loss: 0.0046 - mse: 0.0103 - val_loss: 0.0095 - val_mse: 0.0217\n",
            "Epoch 20/20\n",
            "5/5 [==============================] - 0s 11ms/step - loss: 0.0046 - mse: 0.0102 - val_loss: 0.0094 - val_mse: 0.0217\n"
          ]
        }
      ],
      "source": [
        "model = Autoencoder(output_units=x_train_scaled.shape[1])\n",
        "\n",
        "model.compile(loss='msle', optimizer='adam', metrics=['mse'])\n",
        "epochs=20\n",
        "\n",
        "h = model.fit(x_train_scaled, x_train_scaled, epochs = epochs, batch_size=512, validation_data=(x_test_scaled, x_test_scaled))\n"
      ]
    },
    {
      "cell_type": "code",
      "execution_count": null,
      "id": "4ff072e9-3362-46cb-be30-09132e924bde",
      "metadata": {
        "id": "4ff072e9-3362-46cb-be30-09132e924bde",
        "outputId": "43bb271e-65f1-4896-e3d1-6b2568e04d0d"
      },
      "outputs": [
        {
          "data": {
            "text/plain": [
              "<matplotlib.legend.Legend at 0x2340c909710>"
            ]
          },
          "execution_count": 15,
          "metadata": {},
          "output_type": "execute_result"
        },
        {
          "data": {
            "image/png": "[encoded data removed]",
            "text/plain": [
              "<Figure size 640x480 with 1 Axes>"
            ]
          },
          "metadata": {},
          "output_type": "display_data"
        }
      ],
      "source": [
        "plt.plot(h.history['loss'],label='loss',color='orange')\n",
        "plt.plot(h.history['val_loss'],label='val_loss')\n",
        "plt.ylabel('MSLE Loss')\n",
        "plt.xlabel('epochs')\n",
        "plt.legend()"
      ]
    },
    {
      "cell_type": "code",
      "execution_count": null,
      "id": "e097f493-c523-4859-a48a-9a1f6491db2b",
      "metadata": {
        "id": "e097f493-c523-4859-a48a-9a1f6491db2b"
      },
      "outputs": [],
      "source": [
        "def find_threshold(model, x_train_scaled):\n",
        "    reconstruction = model.predict(x_train_scaled)\n",
        "    reconstruction_errors = tf.keras.losses.msle(reconstruction, x_train_scaled)\n",
        "    threshold = np.mean(reconstruction_errors.numpy()) \\\n",
        "    + np.std(reconstruction_errors.numpy())\n",
        "    return threshold"
      ]
    },
    {
      "cell_type": "code",
      "execution_count": null,
      "id": "61bbf600-c02f-4e26-8a7d-43072904d0a1",
      "metadata": {
        "id": "61bbf600-c02f-4e26-8a7d-43072904d0a1"
      },
      "outputs": [],
      "source": [
        "def get_predictions(model, x_test_scaled, threshold):\n",
        "    predictions = model.predict(x_test_scaled)\n",
        "    errors = tf.keras.losses.msle(predictions, x_test_scaled)\n",
        "    anamoly_mask = pd.Series(errors)>threshold\n",
        "    preds = anamoly_mask.map(lambda x:0.0 if x == True else 1.0)\n",
        "    return preds"
      ]
    },
    {
      "cell_type": "code",
      "execution_count": null,
      "id": "7ea9cdbd-8fa1-401f-93a7-aeb80bd29169",
      "metadata": {
        "id": "7ea9cdbd-8fa1-401f-93a7-aeb80bd29169",
        "outputId": "95b66a25-4812-4b6c-b4c4-4609d1b7fea7"
      },
      "outputs": [
        {
          "name": "stdout",
          "output_type": "stream",
          "text": [
            "73/73 [==============================] - 0s 865us/step\n",
            "0.010215597558682541\n"
          ]
        }
      ],
      "source": [
        "threshold = find_threshold(model, x_train_scaled)\n",
        "print(threshold)"
      ]
    },
    {
      "cell_type": "code",
      "execution_count": null,
      "id": "3e0c5f1b-7526-4709-84da-fbf2d3c74aa7",
      "metadata": {
        "id": "3e0c5f1b-7526-4709-84da-fbf2d3c74aa7",
        "outputId": "80d8ece1-a01b-4a72-e562-223a840ed8b2"
      },
      "outputs": [
        {
          "name": "stdout",
          "output_type": "stream",
          "text": [
            "32/32 [==============================] - 0s 846us/step\n"
          ]
        },
        {
          "data": {
            "text/plain": [
              "0.938"
            ]
          },
          "execution_count": 21,
          "metadata": {},
          "output_type": "execute_result"
        }
      ],
      "source": [
        "prediction = get_predictions(model, x_test_scaled, threshold)\n",
        "accuracy_score(prediction, y_test)"
      ]
    },
    {
      "cell_type": "code",
      "execution_count": null,
      "id": "f0e14e0c-943f-4fe6-ba3e-db16b6642feb",
      "metadata": {
        "id": "f0e14e0c-943f-4fe6-ba3e-db16b6642feb"
      },
      "outputs": [],
      "source": []
    }
  ],
  "metadata": {
    "kernelspec": {
      "display_name": "virtual_kernel",
      "language": "python",
      "name": "virtual_kernel"
    },
    "language_info": {
      "codemirror_mode": {
        "name": "ipython",
        "version": 3
      },
      "file_extension": ".py",
      "mimetype": "text/x-python",
      "name": "python",
      "nbconvert_exporter": "python",
      "pygments_lexer": "ipython3",
      "version": "3.11.5"
    },
    "colab": {
      "provenance": []
    }
  },
  "nbformat": 4,
  "nbformat_minor": 5
}